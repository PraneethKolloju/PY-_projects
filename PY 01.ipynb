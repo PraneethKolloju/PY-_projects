{
 "cells": [
  {
   "cell_type": "code",
   "execution_count": 1,
   "metadata": {},
   "outputs": [
    {
     "name": "stdout",
     "output_type": "stream",
     "text": [
      "**********************************************************************\n",
      "\t\t\tCafe 26.Inc\n",
      "\t\t\tHimayathnagar\n",
      "\t\t\tHyderabad\n",
      "======================================================================\n",
      "\t\tProduct Name\t\tPrice\n",
      "\t\t   Kulcha   \t\t93 bucks   \n",
      "\t\t   Biryani  \t\t430 bucks\n",
      "\t\t   kulfi    \t\t300 bucks\n",
      "-.--.--.--.--.--.--.--.--.--.--.--.--.--.--.--.--.--.--.--.--.--.--.--.--.-\n",
      "\t\t\t\t\t823 bucks\n",
      "-.--.--.--.--.--.--.--.--.--.--.--.--.--.--.--.--.--.--.--.--.--.--.--.--.-\n",
      "\n",
      "\t\t\tThanks for your appearence\n",
      "                                                                      \n"
     ]
    }
   ],
   "source": [
    "roti_name,r_price='kulcha',93\n",
    "main_name,m_price='Biryani',430\n",
    "des_name,d_price='kulfi',300\n",
    "total=r_price+m_price+d_price\n",
    "\n",
    "res_name='Cafe 26.inc'\n",
    "res_location='himayathnagar'\n",
    "res_city='hyderabad'\n",
    "message='Thanks for your appearence'\n",
    "print('*'*70)\n",
    "print('\\t\\t\\t{}'.format(res_name.title()))\n",
    "print('\\t\\t\\t{}'.format(res_location.title()))\n",
    "print('\\t\\t\\t{}'.format(res_city.title()))\n",
    "\n",
    "print('='*70)\n",
    "print('\\t\\tProduct Name\\t\\tPrice')\n",
    "print('\\t\\t   Kulcha   \\t\\t93 bucks   ')\n",
    "print('\\t\\t   Biryani  \\t\\t430 bucks')\n",
    "print(\"\\t\\t   kulfi    \\t\\t300 bucks\")\n",
    "\n",
    "print('-.-'*25)\n",
    "print('\\t\\t\\t\\t\\t{}'.format(total),'bucks')\n",
    "print('-.-'*25)\n",
    "print('\\n\\t\\t\\t{}'.format(message))\n",
    "print(' '*70)"
   ]
  }
 ],
 "metadata": {
  "kernelspec": {
   "display_name": "Python 3",
   "language": "python",
   "name": "python3"
  },
  "language_info": {
   "codemirror_mode": {
    "name": "ipython",
    "version": 3
   },
   "file_extension": ".py",
   "mimetype": "text/x-python",
   "name": "python",
   "nbconvert_exporter": "python",
   "pygments_lexer": "ipython3",
   "version": "3.8.5"
  }
 },
 "nbformat": 4,
 "nbformat_minor": 4
}
